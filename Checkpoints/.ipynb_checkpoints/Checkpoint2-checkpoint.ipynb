{
 "cells": [
  {
   "cell_type": "markdown",
   "metadata": {
    "deletable": false,
    "editable": false,
    "nbgrader": {
     "cell_type": "markdown",
     "checksum": "ef563c69f70e4508d5d2186248842296",
     "grade": false,
     "grade_id": "header",
     "locked": true,
     "schema_version": 3,
     "solution": false,
     "task": false
    }
   },
   "source": [
    "# Checkpoint 2\n",
    "\n",
    "**Due: Friday, 6 November, 2020 at 5:00pm GMT**\n",
    "\n",
    "### Read This First\n",
    "1. Use the constants provided in the cell below. Do not use your own constants.\n",
    "\n",
    "2. Put the code that produces the output for a given task in the cell indicated. You are welcome to add as many cells as you like for imports, function definitions, variables, etc. **Additional cells need to be in the proper order such that your code runs correctly the first time through.**\n",
    "\n",
    "3. **IMPORTANT!** Before submitting your notebook, clear the output by clicking *Restart & Clear Output* from the *Kernel* menu. If you do not do this, the file size of your notebook will be very large."
   ]
  },
  {
   "cell_type": "code",
   "execution_count": 1,
   "metadata": {},
   "outputs": [],
   "source": [
    "import matplotlib.pyplot as plt\n",
    "%matplotlib inline\n",
    "import numpy as np\n",
    "import time\n",
    "\n",
    "from scipy.sparse.linalg import eigsh\n",
    "from scipy.sparse.linalg import spsolve\n",
    "from scipy.sparse import diags\n",
    "from scipy.sparse import identity\n",
    "from scipy import integrate\n",
    "from scipy.sparse.linalg import splu\n",
    "from scipy.linalg import eigh_tridiagonal\n",
    "\n",
    "\n",
    "plt.rcParams['figure.figsize'] = (10, 6)\n",
    "plt.rcParams['font.size'] = 16"
   ]
  },
  {
   "cell_type": "markdown",
   "metadata": {
    "deletable": false,
    "editable": false,
    "nbgrader": {
     "cell_type": "markdown",
     "checksum": "97fb576f81dbdf14d16161118c8478ee",
     "grade": false,
     "grade_id": "section-task1",
     "locked": true,
     "schema_version": 3,
     "solution": false,
     "task": false
    }
   },
   "source": [
    "# Task 1 (25p)\n",
    "\n",
    "Find numerically the first 101 lowest eigenvalues (“energies”) of the discrete Hamiltonian matrix, H, for V=0 and x=0,...,L, with L=100, dx=1/8 and with reflecting boundary conditions:\n",
    "\n",
    "$\n",
    "\\begin{align}\n",
    "\\psi_N \\equiv \\psi_{N-1},\n",
    "\\end{align}\n",
    "$\n",
    "\n",
    "$\n",
    "\\begin{align}\n",
    "\\psi_{-1} \\equiv \\psi_0,\n",
    "\\end{align}\n",
    "$\n",
    "\n",
    "Here the index -1 denotes the element to the left of the element zero, not the element N-1 as in Python. Note that indices $-1, N$ refer to elements of $\\psi$ that are outside the matrix H.\n",
    "\n",
    "Hint: The eigenvalues, $w_n$, should be\n",
    "\n",
    "$\n",
    "\\large\n",
    "\\begin{align}\n",
    "w_n = \\frac{2\\left(1 - \\cos (\\frac{n \\pi}{N}) \\right)}{dx^2}\n",
    "\\end{align}\n",
    "$\n",
    "\n",
    "for n=0, 1,..., 100. The corresponding (non-normalized) eigenvectors, $v_n$ are\n",
    "\n",
    "$\n",
    "\\large\n",
    "\\begin{align}\n",
    "v_n = \\cos \\left( \\frac{n \\pi x}{L} \\right)\n",
    "\\end{align}\n",
    "$\n",
    "\n",
    "for x=0, dx,..., (N-1)dx."
   ]
  },
  {
   "cell_type": "code",
   "execution_count": 2,
   "metadata": {
    "deletable": false,
    "editable": false,
    "nbgrader": {
     "cell_type": "code",
     "checksum": "3b96418e8d805191fab5578bfe1d9c6c",
     "grade": false,
     "grade_id": "constants-task1",
     "locked": true,
     "schema_version": 3,
     "solution": false,
     "task": false
    }
   },
   "outputs": [
    {
     "name": "stdout",
     "output_type": "stream",
     "text": [
      "Matrix size: 800.\n"
     ]
    }
   ],
   "source": [
    "### Values for task 1\n",
    "L  = 100\n",
    "dx = 1/8\n",
    "N  = int(L/dx)\n",
    "print(f\"Matrix size: {N}.\")"
   ]
  },
  {
   "cell_type": "markdown",
   "metadata": {
    "deletable": false,
    "editable": false,
    "nbgrader": {
     "cell_type": "markdown",
     "checksum": "f0ae58bad90ae10f41964fb2483fcd7a",
     "grade": false,
     "grade_id": "section-task1-cont",
     "locked": true,
     "schema_version": 3,
     "solution": false,
     "task": false
    }
   },
   "source": [
    "In the cell below, compute the 101 lowest eigenvalues given the values of V, L, and dx from above. The function, `task1` should return an array of the eigenvalues.\n",
    "\n",
    "It may be useful to write a generalized function for creating the Hamiltonian given values of N, dx, and V."
   ]
  },
  {
   "cell_type": "code",
   "execution_count": 3,
   "metadata": {},
   "outputs": [],
   "source": [
    "# Constants\n",
    "m = 1/2\n",
    "hbar = 1"
   ]
  },
  {
   "cell_type": "code",
   "execution_count": 4,
   "metadata": {},
   "outputs": [],
   "source": [
    "def _get_n(L,dx):\n",
    "    #This function just returns N as an integer for creating arrays of this length.\n",
    "    return int(L/dx)"
   ]
  },
  {
   "cell_type": "code",
   "execution_count": 5,
   "metadata": {},
   "outputs": [],
   "source": [
    "def hamiltonian(N, dx, V):\n",
    "    \"\"\"\n",
    "    Defines the hamiltonian of the system\n",
    "    \n",
    "    Parameters\n",
    "    ----------\n",
    "    N : integer\n",
    "        size of hamiltonian matrix\n",
    "    dx : float\n",
    "        points to be integrated\n",
    "    V : diagonal sparse matrix\n",
    "        potential of the system\n",
    "        \n",
    "    Returns\n",
    "    -------\n",
    "    H : sparse matrix\n",
    "        Hamiltonian of the system\n",
    "        \n",
    "    \"\"\"\n",
    "    diagonals = [np.full((N),  -2),\n",
    "                 np.full((N-1), 1),\n",
    "                 np.full((N-1), 1)]\n",
    "\n",
    "    delta = diags(diagonals, [0, -1, 1])\n",
    "    # csr because we need to keep a compressed format for faster performance\n",
    "    d = delta.tocsr()\n",
    "    # Take care of initial conditions\n",
    "    d[0,0] = -1\n",
    "    d[N-1,N-1] = -1\n",
    "\n",
    "    H = -hbar/(2*m) * d / dx**2 + V\n",
    "    return H\n"
   ]
  },
  {
   "cell_type": "code",
   "execution_count": 6,
   "metadata": {
    "deletable": false,
    "nbgrader": {
     "cell_type": "code",
     "checksum": "2a540aba8afd7cc72f9f22b65262e589",
     "grade": false,
     "grade_id": "function-task1",
     "locked": false,
     "schema_version": 3,
     "solution": true,
     "task": false
    }
   },
   "outputs": [],
   "source": [
    "def task1():\n",
    "    H = hamiltonian(N, dx, V=0).toarray()\n",
    "    # Array of diagonal values\n",
    "    Q = np.diag(H)\n",
    "    # Array of of-diagonal values\n",
    "    W = np.diag(H, k=1)\n",
    "    # select = 'i' are the eigenvalues with indices min <= i <= max\n",
    "    # select_range = find 101 smallest eigenvalues\n",
    "    w, _ = eigh_tridiagonal(Q, W, select = 'i', select_range = (0,100))\n",
    "    return w"
   ]
  },
  {
   "cell_type": "markdown",
   "metadata": {
    "deletable": false,
    "editable": false,
    "nbgrader": {
     "cell_type": "markdown",
     "checksum": "a305e20dabd91962b111fda679d05c27",
     "grade": false,
     "grade_id": "section-testing-task1",
     "locked": true,
     "schema_version": 3,
     "solution": false,
     "task": false
    }
   },
   "source": [
    "## Testing task 1\n",
    "\n",
    "The cell below will run your function and compare it with the expected values."
   ]
  },
  {
   "cell_type": "code",
   "execution_count": 7,
   "metadata": {
    "deletable": false,
    "editable": false,
    "nbgrader": {
     "cell_type": "code",
     "checksum": "807d873c64673010810b7a92b3e122b0",
     "grade": true,
     "grade_id": "test-task1",
     "locked": true,
     "points": 0,
     "schema_version": 3,
     "solution": false,
     "task": false
    }
   },
   "outputs": [
    {
     "name": "stdout",
     "output_type": "stream",
     "text": [
      "Time to solution: 0.035470008850097656 seconds.\n"
     ]
    },
    {
     "data": {
      "image/png": "[encoded data removed]",
      "text/plain": [
       "<Figure size 720x432 with 1 Axes>"
      ]
     },
     "metadata": {
      "needs_background": "light"
     },
     "output_type": "display_data"
    },
    {
     "name": "stdout",
     "output_type": "stream",
     "text": [
      "Max difference is 1.7702117765407015e-11.\n"
     ]
    }
   ],
   "source": [
    "t1 = time.time()\n",
    "ww = task1()\n",
    "t2 = time.time()\n",
    "print (f\"Time to solution: {t2-t1} seconds.\")\n",
    "\n",
    "my_n = np.arange(101)\n",
    "ww_expected = 2 * (1 - np.cos(my_n*np.pi/N)) / dx**2\n",
    "\n",
    "plt.plot(my_n, ww, label='Computed', alpha=0.8)\n",
    "plt.plot(my_n, ww_expected, label='Expected', linewidth=2, linestyle='--', alpha=0.8)\n",
    "plt.xlabel(r'$n$')\n",
    "plt.ylabel(r'$w_{n}$')\n",
    "plt.legend()\n",
    "plt.show()\n",
    "\n",
    "diff = np.abs(ww - ww_expected) / np.max(np.abs([ww, ww_expected]), axis=0)\n",
    "print (f\"Max difference is {diff[1:].max()}.\")\n",
    "assert (diff[1:] < 1e-6).all()"
   ]
  },
  {
   "cell_type": "markdown",
   "metadata": {
    "deletable": false,
    "editable": false,
    "nbgrader": {
     "cell_type": "markdown",
     "checksum": "6b54b11725241c0fc135be932c0dc0bf",
     "grade": false,
     "grade_id": "section-task2",
     "locked": true,
     "schema_version": 3,
     "solution": false,
     "task": false
    }
   },
   "source": [
    "# Task 2 (5p)\n",
    "\n",
    "Select dx as a negative power of two ($dx=2^{-n}$ for n>0) such that the 101th eigenvalue differs from the dx$\\rightarrow$0 limiting value of\n",
    "\n",
    "$\n",
    "\\begin{align}\n",
    "w_{101,exact} = \\frac{(100\\pi/N)^{2}}{dx^2}\n",
    "\\end{align}\n",
    "$\n",
    "\n",
    "by less than 0.1%, i.e., $|w_{101}/w_{101,exact}-1|<0.001$.\n",
    "\n",
    "Motivation: selecting a sufficiently small dx is required to obtain a good approximation to the original (continuous) equation (1) for subsequent tasks.\n",
    "\n",
    "In the cell below, compute a value of dx that satisfies the above contraint. The function `task2` should return the value of dx that you have calculated."
   ]
  },
  {
   "cell_type": "code",
   "execution_count": 8,
   "metadata": {
    "deletable": false,
    "nbgrader": {
     "cell_type": "code",
     "checksum": "564c94d57db0859bc5bc3dd8c130330d",
     "grade": false,
     "grade_id": "function-task2",
     "locked": false,
     "schema_version": 3,
     "solution": true,
     "task": false
    }
   },
   "outputs": [],
   "source": [
    "def task2():\n",
    "    \"\"\"\"\n",
    "    Computes the value of dx that satisfies the above contraint\n",
    "    \"\"\"\n",
    "    # list of trial n powers. \n",
    "    # Chose list instead of array because it only consitutes a few elements (9)\n",
    "    n_powers = [1,2,3,4,5,6,7,8,9,10]\n",
    "    for i in n_powers:\n",
    "        dx = 2**(-i)\n",
    "        N  = int(L/dx)\n",
    "        # the exact value\n",
    "        exact = (np.pi * 100 / N)**2 / dx**2\n",
    "        # Same as task 1 with range to take only the 101st eigenvalue\n",
    "        H = hamiltonian(N, dx, V=0).toarray()\n",
    "        Q = np.diag(H)\n",
    "        W = np.diag(H, k=1)\n",
    "        w, v = eigh_tridiagonal(Q, W, select = 'i', select_range = (100,101))\n",
    "        if abs(w[0]/exact - 1) < 0.001:\n",
    "            final_dx = dx\n",
    "            return final_dx"
   ]
  },
  {
   "cell_type": "markdown",
   "metadata": {
    "deletable": false,
    "editable": false,
    "nbgrader": {
     "cell_type": "markdown",
     "checksum": "39641e91784f331101fec867e65e432a",
     "grade": false,
     "grade_id": "section-testing-task2",
     "locked": true,
     "schema_version": 3,
     "solution": false,
     "task": false
    }
   },
   "source": [
    "## Testing task 2\n",
    "\n",
    "The cell below will run the `task2` function. We will verify that value of dx return satisfies the criterion outlined above."
   ]
  },
  {
   "cell_type": "code",
   "execution_count": 9,
   "metadata": {
    "deletable": false,
    "editable": false,
    "nbgrader": {
     "cell_type": "code",
     "checksum": "c5bc499d8c9b1e1acf2400536aa6dd26",
     "grade": true,
     "grade_id": "test-task2",
     "locked": true,
     "points": 0,
     "schema_version": 3,
     "solution": false,
     "task": false
    },
    "scrolled": true
   },
   "outputs": [
    {
     "name": "stdout",
     "output_type": "stream",
     "text": [
      "Time to solution: 0.026443958282470703 seconds.\n"
     ]
    }
   ],
   "source": [
    "t1 = time.time()\n",
    "my_dx = task2()\n",
    "t2 = time.time()\n",
    "print (f\"Time to solution: {t2-t1} seconds.\")\n"
   ]
  },
  {
   "cell_type": "markdown",
   "metadata": {
    "deletable": false,
    "editable": false,
    "nbgrader": {
     "cell_type": "markdown",
     "checksum": "f2e4dcb87cfbbe6722c352b2f9bc17a7",
     "grade": false,
     "grade_id": "section-task3",
     "locked": true,
     "schema_version": 3,
     "solution": false,
     "task": false
    }
   },
   "source": [
    "# Task 3 (20p)\n",
    "\n",
    "Solve equation (1) with the initial condition (2) (the Schroedinger equation and the Gaussian function from the checkpoint's description) for V(x)=0, on a domain x=0...100, for t=0...4 and dx from task 2. Plot $|\\psi(x,t)|^2$ and determine its mean given by\n",
    "\n",
    "$\n",
    "\\large\n",
    "\\begin{align}\n",
    "<x>\\ = \\int_{0}^{100} |ψ(x)|^2 x dx.\n",
    "\\end{align}\n",
    "$\n",
    "\n",
    "The mean should be equal to 79$\\pm$-1.\n",
    "\n",
    "Hint: use the procedure for creating the Hamiltonian matrix from tasks 1, 2. This will reduce the amount of coding required."
   ]
  },
  {
   "cell_type": "code",
   "execution_count": 10,
   "metadata": {
    "deletable": false,
    "editable": false,
    "nbgrader": {
     "cell_type": "code",
     "checksum": "9a9e978c8645282513b821173f09c460",
     "grade": false,
     "grade_id": "constants-task3",
     "locked": true,
     "schema_version": 3,
     "solution": false,
     "task": false
    }
   },
   "outputs": [],
   "source": [
    "### Constants for task 3 and 4\n",
    "x0     = 15\n",
    "v      = 16\n",
    "sigma2 = 5\n",
    "tmax   = 4"
   ]
  },
  {
   "cell_type": "markdown",
   "metadata": {
    "deletable": false,
    "editable": false,
    "nbgrader": {
     "cell_type": "markdown",
     "checksum": "1e27c438de19cefd35bfacb16b3d74e8",
     "grade": false,
     "grade_id": "section-plot-task3",
     "locked": true,
     "schema_version": 3,
     "solution": false,
     "task": false
    }
   },
   "source": [
    "## Task 3 plot and result\n",
    "\n",
    "In the cell(s) below, do the following:\n",
    "1. Solve equation (1) for t=0...4 and plot $|\\psi(x,t=0)|^2$ and $|\\psi(x,t=tmax)|^2$ as a function of x.\n",
    "2. Compute the mean of the final position and print the value. The correct result should be between 78 and 80.\n",
    "\n",
    "Don't forget to nomalize your Gaussian initial condition so that the total probability $\\int_0^L |\\psi(x,t=0)|^2 dx=1$. \n",
    "\n",
    "You do not have to wrap up the calculation in a function \"task3()\", but doing so may help to reduce the amount of coding for tasks 4-6."
   ]
  },
  {
   "cell_type": "code",
   "execution_count": 11,
   "metadata": {
    "scrolled": true
   },
   "outputs": [],
   "source": [
    "def my_gaussian(x, x0, v, sigma2):\n",
    "    \"\"\"\n",
    "    Compute the Gaussian function.\n",
    "    \n",
    "    Parameters\n",
    "    ----------\n",
    "    x : float or array\n",
    "        A single value or an array of values for which the Gaussian will be evaluated.\n",
    "    x0 : float\n",
    "        mean of the Gaussian distribution\n",
    "    v : float\n",
    "        velocity\n",
    "    sigma2 : float\n",
    "        variance of the Gaussian distribution\n",
    "        \n",
    "    Returns\n",
    "    -------\n",
    "    y : array\n",
    "        values of the Gaussian distribution for all values of x\n",
    "    \"\"\"\n",
    "    return np.exp(-(x - x0)**2 / (2*sigma2)+ 0.5j * x * v) \n",
    "\n",
    "def amplitude(x):\n",
    "    \"\"\"\n",
    "    Compute the ψ.ψ*\n",
    "    \n",
    "    Parameters\n",
    "    ----------\n",
    "    x : array\n",
    "        array of the function that we need the amplitude of\n",
    "\n",
    "    Returns\n",
    "    -------\n",
    "    absolute value of function array\n",
    "    \n",
    "    \"\"\"\n",
    "    return (np.conj(x) * x).real\n",
    "\n",
    "def get_mean(amp, x):\n",
    "    \"\"\"\n",
    "    Compute the mean of a function (integrate and \n",
    "    calculate the area underneath with simpsons rule).\n",
    "    \n",
    "    Parameters\n",
    "    ----------\n",
    "    amp : array\n",
    "        function to integrate over.\n",
    "    x : array\n",
    "        array of x's\n",
    "    \n",
    "    \"\"\"\n",
    "    mean = integrate.simps(x * amp,x)\n",
    "    print('Mean is {}'.format(mean))\n",
    "\n",
    "def plot_psi2(x, psi0_2, psi_final_2):\n",
    "    \"\"\"\n",
    "    plots ψψ* against position\n",
    "    \n",
    "    Parameters\n",
    "    ----------\n",
    "    psi0_2 : array\n",
    "        ψψ*(t=0)\n",
    "    psi_final_2: array\n",
    "        ψψ*(t=final)\n",
    "    x : array\n",
    "        array of x's\n",
    "    \n",
    "    \"\"\"\n",
    "\n",
    "    fig, ax = plt.subplots(figsize=(16, 9))\n",
    "    \n",
    "    ax.plot(x, psi0_2, linestyle='-', linewidth=2, color='red', label = '$|\\psi(x,t=0)|^2$')\n",
    "    ax.plot(x, psi_final_2, linestyle='-', linewidth=2, color='blue', label = '$|\\psi(x,t=tmax)|^2$')\n",
    "    ax.xaxis.set_label_text('x values', fontsize=14)\n",
    "    ax.yaxis.set_label_text('Amplitude', fontsize=14)\n",
    "    ax.legend()\n",
    "    plt.show()"
   ]
  },
  {
   "cell_type": "code",
   "execution_count": 12,
   "metadata": {
    "deletable": false,
    "nbgrader": {
     "cell_type": "code",
     "checksum": "46aef034c85233969d2a90e3f1e102b1",
     "grade": true,
     "grade_id": "function-task3",
     "locked": false,
     "points": 0,
     "schema_version": 3,
     "solution": true,
     "task": false
    }
   },
   "outputs": [],
   "source": [
    "def wavefunction(x, V, dx, v):\n",
    "    \"\"\"\n",
    "    Finds the wavefunction, solves the S.E.\n",
    "    \n",
    "    Parameters\n",
    "    ----------\n",
    "    x : array\n",
    "        array x's in space\n",
    "    V : sparse matrix\n",
    "        potential of the system\n",
    "    dx : float\n",
    "        increments to create Hamiltonian\n",
    "    v : velocity for initial ψ\n",
    "\n",
    "    Returns\n",
    "    -------\n",
    "    psi0_N : complex array\n",
    "        wavefunction at t=0\n",
    "    psi : complex array\n",
    "        wavefunction at t=final\n",
    "    list_psi : complex array\n",
    "        array of all psi's\n",
    "    \n",
    "    \"\"\"\n",
    "    \n",
    "    psi0 = my_gaussian(x, x0, v, sigma2)\n",
    "    psi2 = amplitude(psi0)\n",
    "\n",
    "    # Normalize integral\n",
    "    integral = integrate.simps(psi2,x)\n",
    "    Normal = np.sqrt(1. / integral).real\n",
    "\n",
    "    dt = 1 / 512\n",
    "    # Normalized psi0\n",
    "    psi0_N = Normal * psi0\n",
    "    N = _get_n(L, dx)\n",
    "    H = hamiltonian(N, dx, V)\n",
    "    iden = identity(H.shape[0])\n",
    "    \n",
    "    # Computes the LU decomposition of the  Matrix.\n",
    "    # A and B were calculated as given in the lectures.\n",
    "    A = splu((iden + (0.5j * dt  * H)).tocsc())\n",
    "    B = (iden - (0.5j * dt  * H)).tocsc()\n",
    "    \n",
    "    psi = psi0_N.copy()\n",
    "\n",
    "    # evolve to t = 4\n",
    "    nmax = int(tmax / dt)\n",
    "    \n",
    "    # this is only for task 5 onwards\n",
    "    list_psi = np.empty((nmax, len(psi)), dtype=complex)\n",
    "    \n",
    "    for n in range(nmax):\n",
    "        list_psi[n] = psi \n",
    "        # Solves matrix equation\n",
    "        psi = A.solve(B * psi)\n",
    "        # take last value\n",
    "        if (abs(n-nmax) == 1):\n",
    "            list_psi[n] = psi\n",
    "            \n",
    "    return psi0_N, psi, list_psi "
   ]
  },
  {
   "cell_type": "code",
   "execution_count": 13,
   "metadata": {},
   "outputs": [
    {
     "name": "stdout",
     "output_type": "stream",
     "text": [
      "Time to solution: 0.3103041648864746 seconds.\n"
     ]
    },
    {
     "data": {
      "image/png": "[encoded data removed]",
      "text/plain": [
       "<Figure size 1152x648 with 1 Axes>"
      ]
     },
     "metadata": {
      "needs_background": "light"
     },
     "output_type": "display_data"
    },
    {
     "name": "stdout",
     "output_type": "stream",
     "text": [
      "Mean is 78.12345655577994\n"
     ]
    }
   ],
   "source": [
    "#create our x values up to 100, with dx = my_dx\n",
    "x = np.linspace(0,L, _get_n(L, my_dx))\n",
    "\n",
    "t1 = time.time()\n",
    "psi_init, psi_final, _ = wavefunction(x, 0, my_dx, v)\n",
    "t2 = time.time()\n",
    "print (f\"Time to solution: {t2-t1} seconds.\")\n",
    "\n",
    "# find ψψ*(t=0) and ψψ*(t=4)\n",
    "psi_final_2 = amplitude(psi_final)\n",
    "psi0_2 = amplitude(psi_init)\n",
    "\n",
    "# plot and get mean\n",
    "plot_psi2(x, psi0_2, psi_final_2)\n",
    "get_mean(psi_final_2,x)"
   ]
  },
  {
   "cell_type": "markdown",
   "metadata": {
    "deletable": false,
    "editable": false,
    "nbgrader": {
     "cell_type": "markdown",
     "checksum": "78f9c05ab558663eee6abd74c130f534",
     "grade": false,
     "grade_id": "section-task4",
     "locked": true,
     "schema_version": 3,
     "solution": false,
     "task": false
    }
   },
   "source": [
    "# Task 4 (10p)\n",
    "\n",
    "Now repeat task 3 for a potential made up of regularly spaced wells such that\n",
    "\n",
    "V=70 for |x-i| < 0.25 where i=0,1,...,100,\n",
    "\n",
    "and V=0 elsewhere.\n",
    "\n",
    "Plot the potential. It should be $V=70$ for $x=0...0.25$, $V=0$ for $x=0.25...0.75$, $V=70$ for $x=0.75...1.25$, and so on.\n",
    "\n",
    "Determine the mean of $|\\psi(x,t)|^2$ as before, with accuracy $\\pm$1.\n",
    "\n",
    "Make sure that dx and dt are sufficiently small to achieve this accuracy!\n",
    "\n",
    "In the cell below, create the potential and plot it over the range [0, 3]."
   ]
  },
  {
   "cell_type": "code",
   "execution_count": 14,
   "metadata": {},
   "outputs": [],
   "source": [
    "def isInt(num):\n",
    "    # return True if we have an integer\n",
    "    return np.equal(np.mod(num, 1), 0)\n",
    "\n",
    "def get_V(L,dx, rand=False):\n",
    "    \"\"\"\n",
    "    Calculates the potential\n",
    "    \n",
    "    Parameters\n",
    "    ----------\n",
    "    L : integer\n",
    "        length of x array\n",
    "    dx : float\n",
    "        increments of x to be used. The smaller the dx, \n",
    "        the more sharply vertical our potential will be.\n",
    "    rand : boolean\n",
    "        choose to have random widths for the potential (task 7)\n",
    "\n",
    "    Returns\n",
    "    -------\n",
    "    V : array\n",
    "        potential at given x\n",
    "    potential : compressed sparse matrix\n",
    "        potential in diagonal sparse form\n",
    "    x : array\n",
    "        array of x values with given dx\n",
    "    \n",
    "    \"\"\"\n",
    "    \n",
    "    start, stop = 0, L - dx\n",
    "    x = np.arange(start, stop + dx, dx)\n",
    "    V = np.zeros(x.shape[0])\n",
    "        \n",
    "    for i, num in enumerate(x):\n",
    "        if rand:\n",
    "            # This is for Task 7\n",
    "            b = np.random.uniform(0.125,0.375)\n",
    "        else:\n",
    "            b = 0.25\n",
    "        width = int(b/dx)\n",
    "        if isInt(num):\n",
    "            left = np.maximum(0, i - width)\n",
    "            V[left:i+width] = 70\n",
    "    potential = diags([V], [0]).tocsc()\n",
    "    \n",
    "    return V, potential, x\n",
    "\n",
    "\n",
    "def plot_V(rand):\n",
    "    \"Plots the potential up to x=3 with a small enough dx\"\n",
    "    \n",
    "    dx = 1/128\n",
    "    V, _ , x = get_V(3+dx, dx, rand)\n",
    "\n",
    "    fig, ax = plt.subplots(figsize=(13, 6))\n",
    "    \n",
    "    ax.plot(x, V, linestyle='-', linewidth=2, color='red')\n",
    "    ax.xaxis.set_label_text('x values', fontsize=16)\n",
    "    ax.yaxis.set_label_text('Potential', fontsize=16)\n",
    "    plt.show()\n"
   ]
  },
  {
   "cell_type": "code",
   "execution_count": 15,
   "metadata": {
    "deletable": false,
    "nbgrader": {
     "cell_type": "code",
     "checksum": "a2c019e4771e7c2e39134e8f9f73c1fb",
     "grade": false,
     "grade_id": "function-task4",
     "locked": false,
     "schema_version": 3,
     "solution": true,
     "task": false
    }
   },
   "outputs": [
    {
     "data": {
      "image/png": "[encoded data removed]",
      "text/plain": [
       "<Figure size 936x432 with 1 Axes>"
      ]
     },
     "metadata": {
      "needs_background": "light"
     },
     "output_type": "display_data"
    }
   ],
   "source": [
    "plot_V(rand = False)"
   ]
  },
  {
   "cell_type": "markdown",
   "metadata": {
    "deletable": false,
    "editable": false,
    "nbgrader": {
     "cell_type": "markdown",
     "checksum": "a677f62e1ff93e1705edb79f9ffda1c5",
     "grade": false,
     "grade_id": "section-task4-cont",
     "locked": true,
     "schema_version": 3,
     "solution": false,
     "task": false
    }
   },
   "source": [
    "# Task 4 continued\n",
    "\n",
    "In the cell below, repeat task 3 with the new potential."
   ]
  },
  {
   "cell_type": "code",
   "execution_count": 16,
   "metadata": {
    "deletable": false,
    "nbgrader": {
     "cell_type": "code",
     "checksum": "2d5de27a32e1e00fc6b5b0ac93f2fc64",
     "grade": false,
     "grade_id": "answer-task4",
     "locked": false,
     "schema_version": 3,
     "solution": true,
     "task": false
    }
   },
   "outputs": [
    {
     "name": "stdout",
     "output_type": "stream",
     "text": [
      "Time to solution: 0.9789268970489502 seconds.\n"
     ]
    },
    {
     "data": {
      "image/png": "[encoded data removed]",
      "text/plain": [
       "<Figure size 1152x648 with 1 Axes>"
      ]
     },
     "metadata": {
      "needs_background": "light"
     },
     "output_type": "display_data"
    },
    {
     "name": "stdout",
     "output_type": "stream",
     "text": [
      "Mean is 57.51289496125949\n"
     ]
    }
   ],
   "source": [
    "# Here I use a very small dx since it has a small impact (1s) on the computation time\n",
    "# and gives a more accurate result\n",
    "dx = 1/128\n",
    "V, potential , x = get_V(L, dx, rand = False)\n",
    "t1 = time.time()\n",
    "\n",
    "psi_init, psi_final, list_psi = wavefunction(x, potential, dx, v)\n",
    "t2 = time.time()\n",
    "print (f\"Time to solution: {t2-t1} seconds.\")\n",
    "\n",
    "# find ψψ*(t=0) and ψψ*(t=4)\n",
    "psi_final_2 = amplitude(psi_final)\n",
    "psi0_2 = amplitude(psi_init)\n",
    "\n",
    "plot_psi2(x, psi0_2, psi_final_2)\n",
    "get_mean(psi_final_2,x)"
   ]
  },
  {
   "cell_type": "markdown",
   "metadata": {
    "deletable": false,
    "editable": false,
    "nbgrader": {
     "cell_type": "markdown",
     "checksum": "6132662c54c849e9968cb221ea16659f",
     "grade": false,
     "grade_id": "section-task5",
     "locked": true,
     "schema_version": 3,
     "solution": false,
     "task": false
    }
   },
   "source": [
    "# Task 5 (15p)\n",
    "\n",
    "Calculate the probability $P_{1/2}$ of the particle moving through the point x=L/2 by integrating the probability current \n",
    "\n",
    "$\n",
    "\\large\n",
    "\\begin{align}\n",
    "j = (\\psi^*  \\frac{\\partial \\psi}{\\partial x} -\n",
    "\\psi \\frac{\\partial \\psi^*}{\\partial x})(x=L/2)\n",
    "\\end{align}\n",
    "$\n",
    "\n",
    "over time, for t=0...4. The probability can deviate from the true value by no more than $\\pm$0.01 (hint: the correct value is between 0.5 and 1).\n",
    "\n",
    "In the cell below, calculate the probability and print your answer."
   ]
  },
  {
   "cell_type": "code",
   "execution_count": 17,
   "metadata": {
    "deletable": false,
    "nbgrader": {
     "cell_type": "code",
     "checksum": "69036dbb6598c88ed2c686173d93177a",
     "grade": false,
     "grade_id": "function-task5",
     "locked": false,
     "schema_version": 3,
     "solution": true,
     "task": false
    }
   },
   "outputs": [],
   "source": [
    "def get_current(list_psi):\n",
    "    \"\"\"\n",
    "    Calculates the probability current\n",
    "    \n",
    "    Parameters\n",
    "    ----------\n",
    "    list_psi :array\n",
    "        array of ψ(x,t)\n",
    "\n",
    "    Returns\n",
    "    -------\n",
    "    current : array\n",
    "        probability current\n",
    "    \n",
    "    \"\"\"\n",
    "    \n",
    "    \n",
    "    # array of ψ*'s\n",
    "    list_psi_star = np.conj(list_psi)\n",
    "    \n",
    "    # Find corresponding element at L/2\n",
    "    L2_index = np.where(x==(L/2))[0][0]\n",
    "    \n",
    "    # I create these arrays to find ψ(x=L/2, t), ψ(x=L/2 +1 , t) in order to\n",
    "    # differentiate discretely.\n",
    "    new_psi = list_psi[:,L2_index]\n",
    "    new_psi2 = list_psi[:,L2_index + 1]\n",
    "    new_psi_star = list_psi_star[:,L2_index]\n",
    "    new_psi_star2 = list_psi_star[:,L2_index + 1]\n",
    "    \n",
    "    current = -1j*(new_psi_star * (new_psi2 - new_psi)/dx \\\n",
    "                   - new_psi*(new_psi_star2 - new_psi_star)/dx)\n",
    "    return current"
   ]
  },
  {
   "cell_type": "code",
   "execution_count": 18,
   "metadata": {},
   "outputs": [],
   "source": [
    "def task5(prt):\n",
    "    \"\"\"\n",
    "    P of the particle moving through the point x=L/2\n",
    "    \n",
    "    Parameters\n",
    "    ----------\n",
    "    prt : boolean\n",
    "        True if print statement is needed for this function\n",
    "\n",
    "    Returns\n",
    "    -------\n",
    "    integral: float\n",
    "        $P_{1/2}$\n",
    "    \n",
    "    \"\"\"\n",
    "\n",
    "    dt = 1/512\n",
    "    \n",
    "    # integration with respect to t\n",
    "    list_t = np.linspace(0,4, int(4 /dt))\n",
    "    integral = integrate.simps(current,list_t)\n",
    "\n",
    "    if prt == True:\n",
    "        print('P of the particle moving through the point x=L/2 is: {}'.format(integral.real))\n",
    "    return (integral.real)"
   ]
  },
  {
   "cell_type": "code",
   "execution_count": 19,
   "metadata": {},
   "outputs": [
    {
     "name": "stdout",
     "output_type": "stream",
     "text": [
      "P of the particle moving through the point x=L/2 is: 0.8381700919998939\n",
      "Time to solution: 0.2905910015106201 seconds.\n"
     ]
    }
   ],
   "source": [
    "t1 = time.time()\n",
    "current = get_current(list_psi)\n",
    "probability = task5(prt = True)\n",
    "t2 = time.time()\n",
    "print (f\"Time to solution: {t2-t1} seconds.\")"
   ]
  },
  {
   "cell_type": "markdown",
   "metadata": {
    "deletable": false,
    "editable": false,
    "nbgrader": {
     "cell_type": "markdown",
     "checksum": "a5704cc71928fbf5402f80cfa8e06bb6",
     "grade": false,
     "grade_id": "section-task6",
     "locked": true,
     "schema_version": 3,
     "solution": false,
     "task": false
    }
   },
   "source": [
    "# Task 6 (15p)\n",
    "\n",
    "Plot the probability $P_{1/2}$ as a function of particle energy E=0...100, for at least 100 equally-spaced values from this range. All $P_{1/2}$ values should be within $\\pm$0.01 of the true values. Use the formula \n",
    "\n",
    "$\n",
    "\\large\n",
    "\\begin{align}\n",
    "E = \\frac{1}{4} v^2\n",
    "\\end{align}\n",
    "$\n",
    "\n",
    "to convert between energy and velocity (valid for Eqs. (1,2)).\n",
    "\n",
    "Bonus question: can you explain why the plot looks like this?\n",
    "\n",
    "Plot the probability in the cell below."
   ]
  },
  {
   "cell_type": "code",
   "execution_count": 20,
   "metadata": {
    "deletable": false,
    "nbgrader": {
     "cell_type": "code",
     "checksum": "34248862ebaaf5a028b3f562b2fe6efc",
     "grade": false,
     "grade_id": "function-task6",
     "locked": false,
     "schema_version": 3,
     "solution": true,
     "task": false
    },
    "scrolled": true
   },
   "outputs": [
    {
     "name": "stdout",
     "output_type": "stream",
     "text": [
      "Time to solution: 63.34963893890381 seconds.\n"
     ]
    }
   ],
   "source": [
    "# create Energy linspace\n",
    "E = np.linspace(0,L,L)\n",
    "# velocities array\n",
    "velocities = 2 * np.sqrt(E)\n",
    "# Probabilities for each E\n",
    "probabilities = np.empty(len(E))\n",
    "\n",
    "# dx small enough to get probabilities within $\\pm$ 0.01. \n",
    "# Could increase it to decrease runtime\n",
    "dx = 1/64\n",
    "\n",
    "t3 = time.time()\n",
    "for i, vel in enumerate(velocities):\n",
    "    _, potential , x = get_V(L, dx , rand = False)\n",
    "    t1 = time.time()\n",
    "    # Gets the velocity from the array of velocities\n",
    "    _, _, list_psi = wavefunction(x, potential, dx, v = vel)\n",
    "    current = get_current(list_psi)\n",
    "    # Exactly as task 5 without printing each individual probability\n",
    "    probabilities[i] = task5(prt = False)\n",
    "t4 = time.time()\n",
    "print (f\"Time to solution: {t4-t3} seconds.\")\n"
   ]
  },
  {
   "cell_type": "code",
   "execution_count": 21,
   "metadata": {},
   "outputs": [
    {
     "data": {
      "image/png": "[encoded data removed]",
      "text/plain": [
       "<Figure size 936x432 with 1 Axes>"
      ]
     },
     "metadata": {
      "needs_background": "light"
     },
     "output_type": "display_data"
    }
   ],
   "source": [
    "def plot_probs():\n",
    "    \"Plots the probabilities for each Energy at x=L/2\"\n",
    "    \n",
    "    fig, ax = plt.subplots(figsize=(13, 6))\n",
    "    ax.plot(E, probabilities, linestyle='-', linewidth=2, color='red')\n",
    "    ax.xaxis.set_label_text('Energy', fontsize=16)\n",
    "    ax.yaxis.set_label_text('$P_{1/2}$', fontsize=16)\n",
    "    plt.show()\n",
    "    \n",
    "plot_probs()"
   ]
  },
  {
   "cell_type": "markdown",
   "metadata": {
    "deletable": false,
    "editable": false,
    "nbgrader": {
     "cell_type": "markdown",
     "checksum": "395d9446d8ecec601bd2616f5aa01114",
     "grade": false,
     "grade_id": "section-task7",
     "locked": true,
     "schema_version": 3,
     "solution": false,
     "task": false
    }
   },
   "source": [
    "# Task 7 (10p)\n",
    "\n",
    "Assume again the initial condition of equation (2) with v=16, and consider a disordered potential in which\n",
    "\n",
    "V=70 for |x-i| < b$_i$ where i=0,1,...,100,\n",
    "\n",
    "and b$_i$ is a random variable uniformly distributed on [0.125, 0.375].\n",
    "\n",
    "Find the probability $P_{1/2}$ by averaging over 100 realizations of the random potential (must be accurate to $\\pm$0.02). Plot the histogram of $P_{1/2}$. Comment on the value of $P_{1/2}$ compared with task 5."
   ]
  },
  {
   "cell_type": "code",
   "execution_count": 22,
   "metadata": {
    "deletable": false,
    "nbgrader": {
     "cell_type": "code",
     "checksum": "546417409ea0cf71ede0771b17aec4ca",
     "grade": false,
     "grade_id": "function-task7",
     "locked": false,
     "schema_version": 3,
     "solution": true,
     "task": false
    }
   },
   "outputs": [
    {
     "data": {
      "image/png": "[encoded data removed]",
      "text/plain": [
       "<Figure size 936x432 with 1 Axes>"
      ]
     },
     "metadata": {
      "needs_background": "light"
     },
     "output_type": "display_data"
    }
   ],
   "source": [
    "# Plotting the V with randomm widths to make sure it works fine\n",
    "plot_V(rand = True)"
   ]
  },
  {
   "cell_type": "code",
   "execution_count": 23,
   "metadata": {},
   "outputs": [],
   "source": [
    "t1 = time.time()\n",
    "# Empty array of probabilities\n",
    "probs = np.empty(L)\n",
    "dx = 1/32\n",
    "for i in range(L):\n",
    "    # rand=True means we have a varying potential width\n",
    "    # Now with v=16 the same calculation is done as task6\n",
    "    _, potential, x = get_V(L, dx, rand = True)\n",
    "    _, _, list_psi = wavefunction(x, potential, dx, v=16)\n",
    "    current = get_current(list_psi)\n",
    "    probs[i] = task5(prt = False)\n",
    "t2 = time.time()"
   ]
  },
  {
   "cell_type": "code",
   "execution_count": 24,
   "metadata": {
    "deletable": false,
    "nbgrader": {
     "cell_type": "code",
     "checksum": "6bd69d5861aa9544b04e3873d9ae0379",
     "grade": false,
     "grade_id": "answer-task7",
     "locked": false,
     "schema_version": 3,
     "solution": true,
     "task": false
    },
    "scrolled": true
   },
   "outputs": [
    {
     "name": "stdout",
     "output_type": "stream",
     "text": [
      "The Mean is: 0.05731813080607886\n",
      "Time to solution: 27.875541925430298 seconds.\n"
     ]
    }
   ],
   "source": [
    "print('The Mean is: {}'.format(np.mean(probs)))\n",
    "print (f\"Time to solution: {t2-t1} seconds.\")"
   ]
  },
  {
   "cell_type": "code",
   "execution_count": 25,
   "metadata": {},
   "outputs": [
    {
     "data": {
      "image/png": "[encoded data removed]",
      "text/plain": [
       "<Figure size 936x432 with 1 Axes>"
      ]
     },
     "metadata": {
      "needs_background": "light"
     },
     "output_type": "display_data"
    }
   ],
   "source": [
    "#plot of the histogram\n",
    "fig, ax = plt.subplots(figsize=(13, 6))\n",
    "\n",
    "ax.hist(probs, bins='auto', color='#0504aa',\n",
    "                            alpha=0.7, rwidth=0.85)\n",
    "ax.xaxis.set_label_text('Probability $P_{1/2}$', fontsize=16)\n",
    "ax.yaxis.set_label_text('Count', fontsize=16)\n",
    "plt.show()"
   ]
  },
  {
   "cell_type": "markdown",
   "metadata": {},
   "source": [
    "Comparing with task 5 we can easily conclude that the probability of the\n",
    "particle moving from x = L/2 has dramatically decreased by a factor of >10.\n",
    "This shows that the random-varying potential was able to localize the particle.\n",
    "This usually happens when different wavelengths of the wavepacket superpose.\n",
    "Obviously, a potential with regular widths was not able to trap the particle."
   ]
  }
 ],
 "metadata": {
  "kernelspec": {
   "display_name": "Python 3",
   "language": "python",
   "name": "python3"
  },
  "language_info": {
   "codemirror_mode": {
    "name": "ipython",
    "version": 3
   },
   "file_extension": ".py",
   "mimetype": "text/x-python",
   "name": "python",
   "nbconvert_exporter": "python",
   "pygments_lexer": "ipython3",
   "version": "3.7.3"
  }
 },
 "nbformat": 4,
 "nbformat_minor": 4
}
