{
 "cells": [
  {
   "cell_type": "markdown",
   "metadata": {
    "deletable": false,
    "editable": false,
    "nbgrader": {
     "cell_type": "markdown",
     "checksum": "ba4c70a873d1b4f36f5e3df0eddb4481",
     "grade": false,
     "grade_id": "header",
     "locked": true,
     "schema_version": 3,
     "solution": false,
     "task": false
    }
   },
   "source": [
    "# Checkpoint 1\n",
    "\n",
    "**Due: Friday, 16 October, 2020 at 5:00pm BST**\n",
    "\n",
    "### Read This First\n",
    "1. Use the constants provided in the cell below. Do not use your own constants.\n",
    "\n",
    "2. Put the code that produces the output for a given task in the cell indicated. You are welcome to add as many cells as you like for imports, function definitions, variables, etc. **Additional cells need to be in the proper order such that your code runs correctly the first time through.**\n",
    "\n",
    "3. **IMPORTANT!** Before submitting your notebook, clear the output by clicking *Restart & Clear Output* from the *Kernel* menu. If you do not do this, the file size of your notebook will be very large."
   ]
  },
  {
   "cell_type": "markdown",
   "metadata": {
    "deletable": false,
    "editable": false,
    "nbgrader": {
     "cell_type": "markdown",
     "checksum": "bab2972384c47a99dab98b836e1ba5f4",
     "grade": false,
     "grade_id": "section-libraries",
     "locked": true,
     "schema_version": 3,
     "solution": false,
     "task": false
    }
   },
   "source": [
    "## Libraries and Constants\n",
    "Custom imports and constants should be added to a new cell."
   ]
  },
  {
   "cell_type": "code",
   "execution_count": 45,
   "metadata": {
    "deletable": false,
    "editable": false,
    "nbgrader": {
     "cell_type": "code",
     "checksum": "fe7ef72c7480150dac6e323751a47985",
     "grade": false,
     "grade_id": "imports",
     "locked": true,
     "schema_version": 3,
     "solution": false,
     "task": false
    }
   },
   "outputs": [],
   "source": [
    "from IPython.display import HTML\n",
    "import matplotlib.pyplot as plt\n",
    "from matplotlib import animation, rc\n",
    "%matplotlib inline\n",
    "import numpy as np\n",
    "from scipy import integrate, optimize\n",
    "import time\n",
    "\n",
    "plt.rcParams['figure.figsize'] = (10, 6)\n",
    "plt.rcParams['font.size'] = 16\n",
    "\n",
    "# Gravitational constant\n",
    "gg     = 6.67408e-11 # m^3 s^-1 kg^-2\n",
    "# Lunar mass\n",
    "mass   = 7.342e22 # kg\n",
    "# Lunar radius\n",
    "radius = 1738000 # m\n",
    "# 1 day in seconds\n",
    "day    = 3600*24 # seconds\n",
    "\n",
    "### Initial positions and velocities at t=0\n",
    "rs = [1842280, 0] # m\n",
    "vs = [0, 1634]    # m/s"
   ]
  },
  {
   "cell_type": "markdown",
   "metadata": {
    "deletable": false,
    "editable": false,
    "nbgrader": {
     "cell_type": "markdown",
     "checksum": "8ca4db9d303f8dce0560760871271ab5",
     "grade": false,
     "grade_id": "section-equations",
     "locked": true,
     "schema_version": 3,
     "solution": false,
     "task": false
    }
   },
   "source": [
    "## Equations of motion for the unperturbed case:\n",
    "\n",
    "$\n",
    "\\Large\n",
    "\\begin{align}\n",
    "\\frac{d^{2} x}{dt^2} = - \\frac{G M x}{(x^2 + y^2)^{3/2}}\n",
    "\\end{align}\n",
    "$\n",
    "\n",
    "$\n",
    "\\Large\n",
    "\\begin{align}\n",
    "\\frac{d^{2} y}{dt^2} = - \\frac{G M y}{(x^2 + y^2)^{3/2}}\n",
    "\\end{align}\n",
    "$"
   ]
  },
  {
   "cell_type": "markdown",
   "metadata": {
    "deletable": false,
    "editable": false,
    "nbgrader": {
     "cell_type": "markdown",
     "checksum": "7f2dabfa2df1d583ef0cf64f3c836f47",
     "grade": false,
     "grade_id": "section-task1",
     "locked": true,
     "schema_version": 3,
     "solution": false,
     "task": false
    }
   },
   "source": [
    "# Task 1 (30p)\n",
    "\n",
    "In the cell below, write a function that computes the trajectory from t = 0 to tmax, where tmax is given as an argument to the function. The function should return two arrays for the x and y positions of the trajectory. Each array should have N points (equally spaced in time), where N is given as an argument to the function. You may create additional cells for defining functions."
   ]
  },
  {
   "cell_type": "code",
   "execution_count": 46,
   "metadata": {},
   "outputs": [],
   "source": [
    "#import odeint for integration\n",
    "from scipy.integrate import odeint"
   ]
  },
  {
   "cell_type": "code",
   "execution_count": 47,
   "metadata": {},
   "outputs": [],
   "source": [
    "def function(state, time):\n",
    "    \"\"\"\n",
    "    Defines function to be solved for trajectory\n",
    "    \n",
    "    Parameters\n",
    "    ----------\n",
    "    state : array\n",
    "        points to be integrated\n",
    "    time : array\n",
    "        array of points in time\n",
    "        \n",
    "    Returns\n",
    "    -------\n",
    "    dx/dt : array\n",
    "        horizontal velocity of trajectory\n",
    "    dy/dt : array\n",
    "        vertical velocity of trajectory\n",
    "    ddxddt : array\n",
    "        horizontal acceleration of the trajectory\n",
    "    ddyddt : array\n",
    "        vertical acceleration of the trajectory\n",
    "        \n",
    "    \"\"\"\n",
    "    xt, yt, dxdt, dydt = state\n",
    "    z = np.power((np.power(xt, 2) + np.power(yt, 2)), 3/2)\n",
    "    ddxddt = -(gg * mass * xt)/z\n",
    "    ddyddt = -(gg * mass * yt)/z\n",
    "    return dxdt, dydt, ddxddt, ddyddt\n",
    "    "
   ]
  },
  {
   "cell_type": "code",
   "execution_count": 48,
   "metadata": {
    "deletable": false,
    "nbgrader": {
     "cell_type": "code",
     "checksum": "c495aa680522c01f11276e691de6b4cc",
     "grade": false,
     "grade_id": "function-task1",
     "locked": false,
     "schema_version": 3,
     "solution": true,
     "task": false
    }
   },
   "outputs": [],
   "source": [
    "# Here I define times and initial values globally for later tasks\n",
    "times = np.linspace(0,day,int(day / 100))\n",
    "initial = [rs[0], rs[1], vs[0],  vs[1]]\n",
    "\n",
    "def task1(N, tmax):\n",
    "    \"\"\"\n",
    "    Compute orbital trajectory.\n",
    "    \n",
    "    Parameters\n",
    "    ----------\n",
    "    N : int\n",
    "        Number of points in trajectory arrays\n",
    "    tmax : float\n",
    "        End time of integration in units of seconds.\n",
    "        \n",
    "    Returns\n",
    "    -------\n",
    "    x : array\n",
    "        x positions of the trajectory\n",
    "    y : array\n",
    "        y positions of the trajectory\n",
    "    \"\"\"\n",
    "    # Solves ODE\n",
    "    values = odeint(function, initial, times, tfirst=False)\n",
    "    #first column of the array are the x's\n",
    "    x = values[:,0:1]\n",
    "    #first column of the array are the x's\n",
    "    y = values[:,1:2]\n",
    "    return x, y"
   ]
  },
  {
   "cell_type": "markdown",
   "metadata": {
    "deletable": false,
    "editable": false,
    "nbgrader": {
     "cell_type": "markdown",
     "checksum": "d90652557187df98ce1f79a8e0f6e7d7",
     "grade": false,
     "grade_id": "section-testing-task1",
     "locked": true,
     "schema_version": 3,
     "solution": false,
     "task": false
    }
   },
   "source": [
    "## Testing task 1\n",
    "\n",
    "The cell below will run your function with inputs of tmax = 1 day (in seconds) and some number of points. The assert statements below will test that the returned arrays are the correct size."
   ]
  },
  {
   "cell_type": "code",
   "execution_count": 49,
   "metadata": {
    "deletable": false,
    "editable": false,
    "nbgrader": {
     "cell_type": "code",
     "checksum": "00e9fba3ad58031d7f0e2c256507de8a",
     "grade": true,
     "grade_id": "test-task1",
     "locked": true,
     "points": 1,
     "schema_version": 3,
     "solution": false,
     "task": false
    }
   },
   "outputs": [],
   "source": [
    "t_max = day\n",
    "n_points = int(t_max / 100)\n",
    "\n",
    "x_pos, y_pos = task1(n_points, t_max)\n",
    "\n",
    "assert x_pos.size == n_points\n",
    "assert y_pos.size == n_points"
   ]
  },
  {
   "cell_type": "markdown",
   "metadata": {
    "deletable": false,
    "editable": false,
    "nbgrader": {
     "cell_type": "markdown",
     "checksum": "d672c30fdc5edee7919a08e4cee83f47",
     "grade": false,
     "grade_id": "section-task1-cont",
     "locked": true,
     "schema_version": 3,
     "solution": false,
     "task": false
    }
   },
   "source": [
    "# Task 1 continued\n",
    "\n",
    "In the cell below, create an animation of the spacecraft's trajectory for t = 0 to 24 hours that includes a circle representing the Moon. Each frame of the animation should only show the last few points to avoid overlapping a previous orbit. A successful animation will be worth the full 30 points. Alternatively, create a static plot showing the Moon and the spacecraft's trajectory. This will be worth a maximum of 25 points."
   ]
  },
  {
   "cell_type": "code",
   "execution_count": 50,
   "metadata": {
    "deletable": false,
    "nbgrader": {
     "cell_type": "code",
     "checksum": "10c4c4925ac544247a2bfd9d58ac8f93",
     "grade": false,
     "grade_id": "plot-task1",
     "locked": false,
     "schema_version": 3,
     "solution": true,
     "task": false
    }
   },
   "outputs": [
    {
     "data": {
      "image/png": "[encoded data removed]",
      "text/plain": [
       "<Figure size 432x432 with 1 Axes>"
      ]
     },
     "metadata": {
      "needs_background": "light"
     },
     "output_type": "display_data"
    }
   ],
   "source": [
    "#intialize the plot\n",
    "fig, ax = plt.subplots(figsize=(6, 6))\n",
    "\n",
    "circle = plt.Circle((0, 0), radius, color='white', alpha=0.8)\n",
    "ax.add_artist(circle)\n",
    "\n",
    "ax.set_xlim(-2000000, 2000000)\n",
    "ax.set_ylim(-2000000,2000000)\n",
    "ax.set_title('Spacecraft orbit animation')\n",
    "ax.set_xlabel('X-position in meters')\n",
    "ax.set_ylabel('Y-position in meters')\n",
    "ax.set_facecolor('xkcd:black')\n",
    "# ax.set_facecolor((1.0, 0.47, 0.42))\n",
    "line, = ax.plot([], [], lw=2)\n",
    "\n",
    "plt.show()"
   ]
  },
  {
   "cell_type": "code",
   "execution_count": 51,
   "metadata": {},
   "outputs": [],
   "source": [
    "# initialization function\n",
    "def init():\n",
    "    line.set_color('red')\n",
    "    line.set_linewidth(5)\n",
    "    line.set_data([], [])\n",
    "    return (line,)\n",
    "\n",
    "# animation function. This will be call in a sequence to generate frames.\n",
    "def animate(i):\n",
    "    x = np.linspace(0,day, n_points)\n",
    "    x = x_pos\n",
    "    y = y_pos\n",
    "    z = np.sqrt(np.power(x_pos, 2) + np.power(y_pos, 2))\n",
    "    # skip  some frames for faster runtime\n",
    "    i = 4*i\n",
    "    # specify start so that the line is animated and not overlap\n",
    "    start = max(0, i - 20)\n",
    "    line.set_data(x[start:i], y[start:i])\n",
    "    return (line,)"
   ]
  },
  {
   "cell_type": "code",
   "execution_count": 52,
   "metadata": {},
   "outputs": [
    {
     "data": {
      "text/plain": [
       "'\\nanim = animation.FuncAnimation(fig, animate, init_func=init,\\n                               frames=250, interval=55, blit=True, repeat_delay =True)\\n\\nHTML(anim.to_jshtml())\\n\\n'"
      ]
     },
     "execution_count": 52,
     "metadata": {},
     "output_type": "execute_result"
    }
   ],
   "source": [
    "#call the animator.  blit=True means only re-draw the parts that have changed.\n",
    "\n",
    "# Uncomment to see animation\n",
    "\n",
    "\"\"\"\n",
    "anim = animation.FuncAnimation(fig, animate, init_func=init,\n",
    "                               frames=250, interval=55, blit=True, repeat_delay =True)\n",
    "\n",
    "HTML(anim.to_jshtml())\n",
    "\n",
    "\"\"\""
   ]
  },
  {
   "cell_type": "markdown",
   "metadata": {
    "deletable": false,
    "editable": false,
    "nbgrader": {
     "cell_type": "markdown",
     "checksum": "45bdfa44aa068fad332e8f0c52140742",
     "grade": false,
     "grade_id": "section-task2",
     "locked": true,
     "schema_version": 3,
     "solution": false,
     "task": false
    }
   },
   "source": [
    "# Task 2 (15p)\n",
    "\n",
    "Determine the orbital period T. Your solution must be calculated numerically, i.e., not simply using the analytical expression. The obtained value must be within +/-1 s of the correct value.\n",
    "\n",
    "In the cell below, write a function that returns the orbital period in units of seconds."
   ]
  },
  {
   "cell_type": "code",
   "execution_count": 53,
   "metadata": {},
   "outputs": [],
   "source": [
    "def samesign(a, b):\n",
    "        'returns true if a,b have the same sign'\n",
    "        return a * b > 0"
   ]
  },
  {
   "cell_type": "code",
   "execution_count": 54,
   "metadata": {
    "deletable": false,
    "nbgrader": {
     "cell_type": "code",
     "checksum": "564c94d57db0859bc5bc3dd8c130330d",
     "grade": false,
     "grade_id": "function-task2",
     "locked": false,
     "schema_version": 3,
     "solution": true,
     "task": false
    }
   },
   "outputs": [],
   "source": [
    "\"\"\"\n",
    "Once the sign has changed 4 times the function has changed 4 quadrants\n",
    "therefore has completed one period. At that stage I use a manual interpolation \n",
    "method to determine accurately where the function crosses the axis.\n",
    "This is done by comparing the ratio of y_pos left and right from the axes\n",
    "and assuming linearity to calculate the corresponding time inteval.\n",
    "\"\"\"\n",
    "def task2():\n",
    "    'returns: orbital period in seconds'\n",
    "    count = 0\n",
    "    for index, (i,j) in enumerate(zip(y_pos, times)):\n",
    "        if not samesign(i, y_pos[index -1]):\n",
    "            count +=1\n",
    "        if count == 4: \n",
    "            frac = 100*((np.abs(y_pos[index -1])) / (np.abs(y_pos[index -1]) + y_pos[index]))\n",
    "            period = times[index -1] + frac\n",
    "            break\n",
    "    \n",
    "    return(period)"
   ]
  },
  {
   "cell_type": "markdown",
   "metadata": {
    "deletable": false,
    "editable": false,
    "nbgrader": {
     "cell_type": "markdown",
     "checksum": "f156cc9610f8bbf00670a9702d6cf821",
     "grade": false,
     "grade_id": "section-testing-task2",
     "locked": true,
     "schema_version": 3,
     "solution": false,
     "task": false
    }
   },
   "source": [
    "## Testing task 2\n",
    "\n",
    "The cell below will run your function and compare with the analytic answer. They should agree to within 1 second."
   ]
  },
  {
   "cell_type": "code",
   "execution_count": 55,
   "metadata": {
    "deletable": false,
    "editable": false,
    "nbgrader": {
     "cell_type": "code",
     "checksum": "af9a12dbe4b049928b286d824e0550ec",
     "grade": true,
     "grade_id": "test-task2",
     "locked": true,
     "points": 1,
     "schema_version": 3,
     "solution": false,
     "task": false
    }
   },
   "outputs": [
    {
     "name": "stdout",
     "output_type": "stream",
     "text": [
      "Calculated orbital period: [7138.37339125] seconds.\n",
      "Difference with correct answer: [-0.02603354] seconds.\n",
      "Solution calculated in 0.0002770423889160156 seconds.\n",
      "Hooray!\n"
     ]
    }
   ],
   "source": [
    "T_calc = task2()\n",
    "t1 = time.time()\n",
    "print (f\"Calculated orbital period: {T_calc} seconds.\")\n",
    "t2 = time.time()\n",
    "\n",
    "mu = gg * mass\n",
    "T_analytic = 2 * np.pi * np.sqrt((rs[0]**3 * mu**2) / (2*mu - rs[0]*vs[1]**2)**3)\n",
    "\n",
    "print (f\"Difference with correct answer: {T_calc - T_analytic} seconds.\")\n",
    "print (f\"Solution calculated in {t2-t1} seconds.\")\n",
    "\n",
    "assert abs(T_calc - T_analytic) <= 1\n",
    "\n",
    "print (\"Hooray!\")"
   ]
  },
  {
   "cell_type": "markdown",
   "metadata": {
    "deletable": false,
    "editable": false,
    "nbgrader": {
     "cell_type": "markdown",
     "checksum": "3edcf8f65115c589c7e311a1f87932a8",
     "grade": false,
     "grade_id": "section-task3",
     "locked": true,
     "schema_version": 3,
     "solution": false,
     "task": false
    }
   },
   "source": [
    "# Task 3 (20p)\n",
    "\n",
    "Now add a correction that makes the gravitational field non-spherical. The correction rotates with the Moon (one full rotation every T$_{Moon}$ = 27.3 days). How long does it take until the spacecraft hits the Moon? The time must be accurate to +/-1 s. Assume the Moon’s surface is a sphere. The equations of motion now become:\n",
    "\n",
    "$\n",
    "\\Large\n",
    "\\begin{align}\n",
    "\\frac{d^{2} x}{dt^2} = - \\frac{G M x}{(x^2 + y^2)^{3/2}}\n",
    "- \\frac{q\\ G M x^\\prime}{(x^{^\\prime2} + y^{^\\prime2})^{3/2}}\n",
    "\\end{align}\n",
    "$\n",
    "\n",
    "$\n",
    "\\Large\n",
    "\\begin{align}\n",
    "\\frac{d^{2} y}{dt^2} = - \\frac{G M y}{(x^2 + y^2)^{3/2}}\n",
    "- \\frac{q\\ G M y^\\prime}{(x^{^\\prime2} + y^{^\\prime2})^{3/2}}\n",
    "\\end{align}\n",
    "$\n",
    "\n",
    "$\n",
    "\\Large\n",
    "\\begin{align}\n",
    "x^\\prime = x + 0.8\\ R \\cos \\left( \\frac{2 \\pi t}{T_{Moon}} \\right)\n",
    "\\end{align}\n",
    "$\n",
    "\n",
    "$\n",
    "\\Large\n",
    "\\begin{align}\n",
    "y^\\prime = y + 0.8\\ R \\sin \\left( \\frac{2 \\pi t}{T_{Moon}} \\right)\n",
    "\\end{align}\n",
    "$\n",
    "\n",
    "where q = 0.00025.\n",
    "\n",
    "## Task 3 objectives:\n",
    "1. Compute the time at which the spacecraft hits the Moon.\n",
    "2. Make a plot of the height of the spacecraft above the Moon's surface as a function of time. Don't forget to label axes and include units."
   ]
  },
  {
   "cell_type": "code",
   "execution_count": 56,
   "metadata": {},
   "outputs": [],
   "source": [
    "def function2(state, time):\n",
    "    \"\"\"\n",
    "    Defines function to be solved for perturbed trajectory\n",
    "    \n",
    "    Parameters\n",
    "    ----------\n",
    "    state : array\n",
    "        points to be integrated\n",
    "    time : array\n",
    "        array of points in time\n",
    "        \n",
    "    Returns\n",
    "    -------\n",
    "    dx/dt : array\n",
    "        horizontal velocity of trajectory\n",
    "    dy/dt : array\n",
    "        vertical velocity of trajectory\n",
    "    ddxddt : array\n",
    "        horizontal acceleration of the trajectory\n",
    "    ddyddt : array\n",
    "        vertical acceleration of the trajectory\n",
    "        \n",
    "    \"\"\"\n",
    "    q = 0.00025\n",
    "    T_moon = 27.3 * day\n",
    "    xt, yt, dxdt, dydt = state\n",
    "    xpt = xt + 0.8 * radius * np.cos((2 * np.pi * time)/ T_moon)\n",
    "    ypt = yt + 0.8 * radius * np.sin((2 * np.pi * time)/ T_moon)\n",
    "    z = np.power((np.power(xt, 2) + np.power(yt, 2)), 3/2)\n",
    "    zp = np.power((np.power(xpt, 2) + np.power(ypt, 2)), 3/2)\n",
    "    ddxddt = -(gg * mass * xt)/z -(q * gg * mass * xpt)/zp\n",
    "    ddyddt = -(gg * mass * yt)/z -(q * gg * mass * ypt)/zp\n",
    "    return dxdt, dydt, ddxddt, ddyddt"
   ]
  },
  {
   "cell_type": "markdown",
   "metadata": {
    "deletable": false,
    "editable": false,
    "nbgrader": {
     "cell_type": "markdown",
     "checksum": "72c87d7fb2083b3eca3fa9986455fa68",
     "grade": false,
     "grade_id": "section-task3-part1",
     "locked": true,
     "schema_version": 3,
     "solution": false,
     "task": false
    }
   },
   "source": [
    "# Task 3 part 1\n",
    "\n",
    "In the cell below, create a function that returns the impact time accurate to within 1 second."
   ]
  },
  {
   "cell_type": "code",
   "execution_count": 57,
   "metadata": {
    "deletable": false,
    "nbgrader": {
     "cell_type": "code",
     "checksum": "3c77cf0f75fc5abd8561b8c53042c936",
     "grade": false,
     "grade_id": "function-task3",
     "locked": false,
     "schema_version": 3,
     "solution": true,
     "task": false
    }
   },
   "outputs": [],
   "source": [
    "T_moon = 27.3 * day\n",
    "# Decreased the time step in order to calculate most accurate result.\n",
    "times = np.linspace(0,T_moon/2 ,int(T_moon / 3))\n",
    "initial = [rs[0], rs[1], vs[0],  vs[1]]\n",
    "\n",
    "# I just make the same calculation globally so that I can use \n",
    "# the results on a later task. If we had more freedom to choose\n",
    "# what task3() returns I would include everything in the function.\n",
    "values2 = odeint(function2, initial, times)\n",
    "x_pos2 = values2[:,0]\n",
    "y_pos2 = values2[:,1]\n",
    "position = np.power((np.power(x_pos2, 2) + np.power(y_pos2, 2)), 1/2)\n",
    "\n",
    "def task3():\n",
    "    'returns: impact time in seconds'\n",
    "    #calculates values for perturbed case\n",
    "    values2 = odeint(function2, initial, times)\n",
    "    x_pos2 = values2[:,0]\n",
    "    y_pos2 = values2[:,1]\n",
    "    position = np.power((np.power(x_pos2, 2) + np.power(y_pos2, 2)), 1/2)\n",
    "    \n",
    "    \n",
    "    for index, (i,j) in enumerate(zip(position, times)):\n",
    "        # Once the position becomes smaller than \n",
    "        # the radius of moon, it means we have impact.\n",
    "        if abs(i) <= radius:\n",
    "            new_time = j\n",
    "            break\n",
    "    return(new_time)\n",
    "    "
   ]
  },
  {
   "cell_type": "markdown",
   "metadata": {
    "deletable": false,
    "editable": false,
    "nbgrader": {
     "cell_type": "markdown",
     "checksum": "3998b1453205b2cde77cb733cef30c58",
     "grade": false,
     "grade_id": "section-testing-task3-part1",
     "locked": true,
     "schema_version": 3,
     "solution": false,
     "task": false
    }
   },
   "source": [
    "## Testing task 3 part 1\n",
    "\n",
    "The cell below will run your function and print your answer. This will be tested against the correct answer (not given)."
   ]
  },
  {
   "cell_type": "code",
   "execution_count": 58,
   "metadata": {
    "deletable": false,
    "editable": false,
    "nbgrader": {
     "cell_type": "code",
     "checksum": "8202b25166bb62d8c69cdda62cfd2495",
     "grade": true,
     "grade_id": "test-task3-part1",
     "locked": true,
     "points": 1,
     "schema_version": 3,
     "solution": false,
     "task": false
    }
   },
   "outputs": [
    {
     "name": "stdout",
     "output_type": "stream",
     "text": [
      "Time to impact: 627060.80 seconds (7.26 days).\n",
      "Solution calculated in 1.0188770294189453 seconds.\n"
     ]
    }
   ],
   "source": [
    "t1 = time.time()\n",
    "t_impact = task3()\n",
    "t2 = time.time()\n",
    "\n",
    "print (f\"Time to impact: {t_impact:.2f} seconds ({t_impact / day:.2f} days).\")\n",
    "print (f\"Solution calculated in {t2-t1} seconds.\")"
   ]
  },
  {
   "cell_type": "markdown",
   "metadata": {
    "deletable": false,
    "editable": false,
    "nbgrader": {
     "cell_type": "markdown",
     "checksum": "2e8663ce61df1f7a9a1cc5772f0585ee",
     "grade": false,
     "grade_id": "section-task3-part2",
     "locked": true,
     "schema_version": 3,
     "solution": false,
     "task": false
    }
   },
   "source": [
    "## Task 3 part 2\n",
    "\n",
    "In the cell below, plot of the height of the spacecraft above the Moon's surface as a function of time. Don't forget to label axes and include units."
   ]
  },
  {
   "cell_type": "code",
   "execution_count": 59,
   "metadata": {
    "deletable": false,
    "nbgrader": {
     "cell_type": "code",
     "checksum": "5d7e29a04fefed1f3e73a33ca1ea1435",
     "grade": false,
     "grade_id": "plot-task3",
     "locked": false,
     "schema_version": 3,
     "solution": true,
     "task": false
    }
   },
   "outputs": [
    {
     "data": {
      "image/png": "[encoded data removed]",
      "text/plain": [
       "<Figure size 1152x648 with 1 Axes>"
      ]
     },
     "metadata": {
      "needs_background": "light"
     },
     "output_type": "display_data"
    }
   ],
   "source": [
    "# Initiallize plot\n",
    "fig, ax = plt.subplots(figsize=(16, 9))\n",
    "\n",
    "# Divide by days to see clearly on which day it reaches 0\n",
    "x = times/day\n",
    "y = position - radius\n",
    "\n",
    "ax.plot(x, y, linestyle='-', linewidth=2, color='red')\n",
    "ax.xaxis.set_label_text('time in days', fontsize=14)\n",
    "ax.yaxis.set_label_text('Height above moon in metres', fontsize=14)\n",
    "ax.set_ylim(0, 250000)\n",
    "ax.set_title('Spacecraft Height against time')\n",
    "# Stop the plot at the impact\n",
    "ax.set_xlim(0, t_impact / day)\n",
    "\n",
    "plt.show()"
   ]
  },
  {
   "cell_type": "markdown",
   "metadata": {
    "deletable": false,
    "editable": false,
    "nbgrader": {
     "cell_type": "markdown",
     "checksum": "8ede138300fda910e7031211ac7d175e",
     "grade": false,
     "grade_id": "section-task4",
     "locked": true,
     "points": 0,
     "schema_version": 3,
     "solution": false,
     "task": true
    }
   },
   "source": [
    "# Task 4 (10p)\n",
    "\n",
    "Which coordinate (x or y) of the position of the spacecraft after one revolution (orbital period T from task 2) is more sensitive to small changes in the amplitude of the correction? To answer this, calculate the derivatives of dx/dq and dy/dq at t = T, for q = 0. Write your answer in the cell below, describing how you arrived at it. Place any code that demonstrates your solution in the cell with the function called `task4`."
   ]
  },
  {
   "cell_type": "markdown",
   "metadata": {
    "deletable": false,
    "nbgrader": {
     "cell_type": "markdown",
     "checksum": "c0ffcdc91bc88a53adaed587c1fce5bd",
     "grade": true,
     "grade_id": "asnwer-task4",
     "locked": false,
     "points": 0,
     "schema_version": 3,
     "solution": true,
     "task": false
    }
   },
   "source": [
    "YOUR ANSWER HERE"
   ]
  },
  {
   "cell_type": "code",
   "execution_count": 60,
   "metadata": {
    "deletable": false,
    "nbgrader": {
     "cell_type": "code",
     "checksum": "19e4f318a975bcc9cfa96fdb8e3f2a13",
     "grade": false,
     "grade_id": "function-task4",
     "locked": false,
     "schema_version": 3,
     "solution": true,
     "task": false
    }
   },
   "outputs": [
    {
     "name": "stdout",
     "output_type": "stream",
     "text": [
      "Y is more sensitive to small changes in the amplitude of the correction by a factor of 347.7\n"
     ]
    },
    {
     "data": {
      "image/png": "[encoded data removed]",
      "text/plain": [
       "<Figure size 1152x648 with 1 Axes>"
      ]
     },
     "metadata": {
      "needs_background": "light"
     },
     "output_type": "display_data"
    }
   ],
   "source": [
    "def function3(state, time, q):\n",
    "    \"\"\"\n",
    "    Defines function to be solved ODE perturbed trajectory including a q argument\n",
    "    \n",
    "    Parameters\n",
    "    ----------\n",
    "    state : array\n",
    "        points to be integrated\n",
    "    time : array\n",
    "        array of points in time\n",
    "    q : float\n",
    "        value determining the scale of pertrubation\n",
    "        \n",
    "    Returns\n",
    "    -------\n",
    "    dx/dt : array\n",
    "        horizontal velocity of trajectory\n",
    "    dy/dt : array\n",
    "        vertical velocity of trajectory\n",
    "    ddxddt : array\n",
    "        horizontal acceleration of the trajectory\n",
    "    ddyddt : array\n",
    "        vertical acceleration of the trajectory\n",
    "        \n",
    "    \"\"\"\n",
    "    \n",
    "    T_moon = 27.3 * day\n",
    "    xt, yt, dxdt, dydt = state\n",
    "    xpt = xt + 0.8 * radius * np.cos((2 * np.pi * time)/ T_moon)\n",
    "    ypt = yt + 0.8 * radius * np.sin((2 * np.pi * time)/ T_moon)\n",
    "    z = np.power((np.power(xt, 2) + np.power(yt, 2)), 3/2)\n",
    "    zp = np.power((np.power(xpt, 2) + np.power(ypt, 2)), 3/2)\n",
    "    ddxddt = -(gg * mass * xt)/z -(q * gg * mass * xpt)/zp\n",
    "    ddyddt = -(gg * mass * yt)/z -(q * gg * mass * ypt)/zp\n",
    "    return dxdt, dydt, ddxddt, ddyddt\n",
    "\n",
    "def orbit_T(q, t):\n",
    "    \"\"\"\n",
    "    Solves ODE for perturbed trajectory\n",
    "    \n",
    "    Parameters\n",
    "    ----------\n",
    "    q : array\n",
    "        points to be integrated\n",
    "    t : array\n",
    "        array of points in time\n",
    "        \n",
    "    Returns\n",
    "    -------\n",
    "    x_pos2[-1] : float\n",
    "        last x-position of trajectory\n",
    "    y_pos2[-1] : float\n",
    "        last y-position of trajectory\n",
    "        \n",
    "    \"\"\"\n",
    "    values = odeint(function3, initial, t, args=(q,))\n",
    "    x_pos2 = values[:,0]\n",
    "    y_pos2 = values[:,1]\n",
    "    return(x_pos2[-1], y_pos2[-1])   \n",
    "\n",
    "\n",
    "def task4():\n",
    "    # creates an array of q vlues\n",
    "    list_of_q = np.linspace(0,0.04,200) \n",
    "    xs_array = np.zeros(len(list_of_q))\n",
    "    ys_array = np.zeros(len(list_of_q))\n",
    "    # linspace created until impact (Tcalc[0])\n",
    "    times_T = np.linspace(0,T_calc[0] ,int(T_calc[0]/200))\n",
    "    \n",
    "    t1 = time.time()\n",
    "\n",
    "    for i ,j in enumerate(list_of_q):\n",
    "        values3 = orbit_T(j, times_T)\n",
    "        #populate arrays for different q's\n",
    "        xs_array[i] = values3[0]\n",
    "        ys_array[i] = values3[1]\n",
    "\n",
    "    t2 = time.time()\n",
    "    \n",
    "    # direct calculation of derivatives\n",
    "    dx_dq = (xs_array[1] - xs_array[0])/(list_of_q[1] - list_of_q[0])\n",
    "    dy_dq = (ys_array[1] - ys_array[0])/(list_of_q[1] - list_of_q[0])\n",
    "    factor = abs(dx_dq/dy_dq)\n",
    "    \n",
    "    # Since the value of the derivative determines how sensitive X and Y are to changes\n",
    "    # of q, the factor will determine which is larger.\n",
    "    \n",
    "    if(factor > 1):\n",
    "        print('X is more sensitive to small changes \\\n",
    "in the amplitude of the correction by a factor of {:.1f}'.format(factor))\n",
    "    elif(factor < 1):\n",
    "        print('Y is more sensitive to small changes \\\n",
    "in the amplitude of the correction by a factor of {:.1f}'.format(1/factor))\n",
    "    else:\n",
    "        print('X and Y are equally sensitive to small \\\n",
    "changes in the amplitude of the correction')\n",
    "    \n",
    "    # This plot shows that for the range of q values we are considering it suffices to\n",
    "    # measure the gradient at the start of the curve and conclude which of \n",
    "    # the dX/dq,dY/dq is larger.\n",
    "    fig, ax = plt.subplots(figsize=(16, 9))\n",
    "    x = list_of_q\n",
    "    y1 = ys_array\n",
    "    y2 = xs_array\n",
    "    \n",
    "    ax.plot(x, y1, linestyle='-', linewidth=2, color='red', label = 'Y values')\n",
    "    ax.plot(x, y2, linestyle='-', linewidth=2, color='blue', label = 'X values')\n",
    "    ax.xaxis.set_label_text('list of q', fontsize=14)\n",
    "    ax.yaxis.set_label_text('Magnitude', fontsize=14)\n",
    "    ax.legend()\n",
    "    plt.show()\n",
    "    \n",
    "task4()"
   ]
  },
  {
   "cell_type": "markdown",
   "metadata": {
    "deletable": false,
    "editable": false,
    "nbgrader": {
     "cell_type": "markdown",
     "checksum": "5a22d03d39395c6ef172740d35049afe",
     "grade": false,
     "grade_id": "section-task5",
     "locked": true,
     "schema_version": 3,
     "solution": false,
     "task": false
    }
   },
   "source": [
    "# Task 5 (10p)\n",
    "\n",
    "The positions of the spacecraft at t=0, t=T/2, and t=T are given in the cell below. Use them to determine the amplitude of the correction q. Note, this is a different value than for the previous tasks.\n",
    "\n",
    "A comment for those interested in space science: this is a highly simplified and unrealistic version of the task NASA scientists had to carry out to map out the gravity at the Moon's surface using \"telemetry\" data (positions and velocities) of various spacecrafts orbiting the Moon.\n",
    "\n",
    "Put your code in the cell that starts with `def task5():`.\n",
    "\n",
    "Your answer should be within 20% of the correct answer."
   ]
  },
  {
   "cell_type": "code",
   "execution_count": 61,
   "metadata": {
    "deletable": false,
    "editable": false,
    "nbgrader": {
     "cell_type": "code",
     "checksum": "6595cdde4fb596b5606e01850c7f8685",
     "grade": true,
     "grade_id": "constants-task5",
     "locked": true,
     "points": 0,
     "schema_version": 3,
     "solution": false,
     "task": false
    }
   },
   "outputs": [],
   "source": [
    "r1 = [1842280.0, 0.0]\n",
    "r2 = [-1856332.7223839264, -717.5195460640389]\n",
    "r3 = [1842271.070055315, 3847.378923359429]"
   ]
  },
  {
   "cell_type": "code",
   "execution_count": 62,
   "metadata": {
    "deletable": false,
    "nbgrader": {
     "cell_type": "code",
     "checksum": "69385242762db22937e67cdaba383174",
     "grade": false,
     "grade_id": "function-task5",
     "locked": false,
     "schema_version": 3,
     "solution": true,
     "task": false
    }
   },
   "outputs": [],
   "source": [
    "def orbit_T2(q, t):\n",
    "    \"\"\"\n",
    "    Solves ODE for perturbed trajectory\n",
    "    \n",
    "    Parameters\n",
    "    ----------\n",
    "    q : array\n",
    "        points to be integrated\n",
    "    t : array\n",
    "        array of points in time\n",
    "        \n",
    "    Returns\n",
    "    -------\n",
    "    x_pos2[T2_ind] : float\n",
    "        x position at t = T/2\n",
    "    y_pos2[T2_ind] : float\n",
    "        y position at t = T/2\n",
    "    x_pos2[-1] : \n",
    "        x position at t = T\n",
    "    y_pos2[-1] : \n",
    "        y position at t = T\n",
    "        \n",
    "    \"\"\"\n",
    "    values = odeint(function3, initial, t, args=(q,))\n",
    "    x_pos2 = values[:,0]\n",
    "    y_pos2 = values[:,1]\n",
    "    #index at half the period \n",
    "    T2_ind = int(len(x_pos2)/2)\n",
    "    return(x_pos2[T2_ind], y_pos2[T2_ind], x_pos2[-1], y_pos2[-1] ) \n",
    "\n",
    "\n",
    "def task5():\n",
    "    \n",
    "    # linspace until impact T\n",
    "    times_T = np.linspace(0,T_calc[0] ,int(T_calc[0]/200))\n",
    "    # linspace of trial values of q\n",
    "    list_of_q2 = np.linspace(0.0001,0.0003,200) \n",
    "    \n",
    "    # create arrays for x and y positions at T and T/2\n",
    "    xs_array_T2 = np.zeros(len(list_of_q2))\n",
    "    ys_array_T2 = np.zeros(len(list_of_q2))\n",
    "    xs_array_T = np.zeros(len(list_of_q2))\n",
    "    ys_array_T = np.zeros(len(list_of_q2))\n",
    "    \n",
    "    for i ,j in enumerate(list_of_q2):\n",
    "        # enumerates through a list of q's and stores corresponding x and y \n",
    "        # positions at each q. These are taken from time T/2 and T to \n",
    "        # compare with the given r1, r2, r3\n",
    "        values4 = orbit_T2(j, times_T)\n",
    "        xs_array_T2[i] = values4[0]\n",
    "        ys_array_T2[i] = values4[1]\n",
    "        xs_array_T[i] = values4[2]\n",
    "        ys_array_T[i] = values4[3]\n",
    "        \n",
    "    # These minima correspond to the cases where x and y positions \n",
    "    # where the closest to the given r1, r2, r3\n",
    "    min_x_T2 =abs(xs_array_T2 - r2[0])\n",
    "    min_y_T2 =abs(ys_array_T2 - r2[1])\n",
    "    min_x_T =abs(xs_array_T - r3[0])\n",
    "    min_y_T =abs(ys_array_T - r3[1])\n",
    "    \n",
    "    # Takes the corresponding index of minimum\n",
    "    index_x_T2 = np.argmin(min_x_T2)\n",
    "    index_y_T2 = np.argmin(min_y_T2)\n",
    "    index_x_T = np.argmin(min_x_T)\n",
    "    index_y_T = np.argmin(min_y_T)\n",
    "\n",
    "    # Finds the corresponding q to that x and y position.\n",
    "    q1 = list_of_q2[index_x_T2]\n",
    "    q2 = list_of_q2[index_y_T2]\n",
    "    q3 = list_of_q2[index_x_T]\n",
    "    q4 = list_of_q2[index_y_T]\n",
    "    \n",
    "    # Group and average for the most reliable result\n",
    "    all_q = np.arange(q1,q2,q3,q4)\n",
    "    q_average = np.mean(all_q)\n",
    "    return(q_average)"
   ]
  },
  {
   "cell_type": "markdown",
   "metadata": {
    "deletable": false,
    "editable": false,
    "nbgrader": {
     "cell_type": "markdown",
     "checksum": "c97e07bdcadf4dc597c25e3741513e21",
     "grade": false,
     "grade_id": "section-testing-task5",
     "locked": true,
     "schema_version": 3,
     "solution": false,
     "task": false
    }
   },
   "source": [
    "## Testing task 5\n",
    "\n",
    "The cell below will run your function and print your answer. This will be tested against the correct answer (not given). Your answer should be within 20% of the correct answer."
   ]
  },
  {
   "cell_type": "code",
   "execution_count": 63,
   "metadata": {
    "deletable": false,
    "editable": false,
    "nbgrader": {
     "cell_type": "code",
     "checksum": "a21057058ca159c89abefbf09656642e",
     "grade": true,
     "grade_id": "test-task5",
     "locked": true,
     "points": 1,
     "schema_version": 3,
     "solution": false,
     "task": false
    }
   },
   "outputs": [
    {
     "name": "stdout",
     "output_type": "stream",
     "text": [
      "q = 0.00012010050251256282\n",
      "Solution calculated in 1.0627400875091553 seconds.\n"
     ]
    }
   ],
   "source": [
    "t1 = time.time()\n",
    "mystery_q = task5()\n",
    "t2 = time.time()\n",
    "\n",
    "print (f\"q = {mystery_q}\")\n",
    "print (f\"Solution calculated in {t2-t1} seconds.\")\n"
   ]
  },
  {
   "cell_type": "markdown",
   "metadata": {
    "deletable": false,
    "editable": false,
    "nbgrader": {
     "cell_type": "markdown",
     "checksum": "a86fc46bd8085b4e983725b95abc9942",
     "grade": false,
     "grade_id": "section-task6",
     "locked": true,
     "schema_version": 3,
     "solution": false,
     "task": false
    }
   },
   "source": [
    "# Task 6 (15p)\n",
    "\n",
    "What is the minimum initial height of a circular orbit such that, for the perturbation from task 3 (q = 0.00025), the spacecraft does not collide with the Moon but remains gravitationally bound to it?\n",
    "\n",
    "The orbit may still show oscillations as in task 3, but the spacecraft cannot not hit the lunar surface.\n",
    "\n",
    "Create a function `task6` that returns the minimum height of the circular orbit in units of meters. Explain your approach. To obtain full marks, the answer must be correct to +/-1 km.\n",
    "\n",
    "The following formula for the velocity of a point mass in circular orbit of radius r, orbiting a spherically symmetric body of mass M, may be useful:\n",
    "\n",
    "$\n",
    "\\Large\n",
    "\\begin{align}\n",
    "v_{c} = \\sqrt{\\frac{G\\ M}{r}}.\n",
    "\\end{align}\n",
    "$\n",
    "\n",
    "In the cell below, create a function that calculates the minimum height of a stable orbit in units of meters. Your answer should be within 1000 meters of the correct answer."
   ]
  },
  {
   "cell_type": "code",
   "execution_count": 64,
   "metadata": {
    "deletable": false,
    "nbgrader": {
     "cell_type": "code",
     "checksum": "e9c8c07aeea5e9517c92e13b16009f56",
     "grade": false,
     "grade_id": "function-task6",
     "locked": false,
     "schema_version": 3,
     "solution": true,
     "task": false
    }
   },
   "outputs": [],
   "source": [
    "def norm(x,y):\n",
    "    # Returns the norm of vectors x, y.\n",
    "    return np.sqrt(np.power(x,2) + np.power(y,2))\n",
    "\n",
    "def vel_func(r):\n",
    "    # Calculates the velocity of spacecraft for given r\n",
    "    return np.sqrt((gg * mass)/r)\n",
    "\n",
    "def task6():\n",
    "    # Trial values for possible initial heights. These were chosen after trial and error to\n",
    "    # find the exact place it first avoids the crush and the orbit is bound.\n",
    "    possible_rs = np.linspace(1890000, 1910000, 20)\n",
    "    # Calculates the velocities for the initial conditions above\n",
    "    possible_vs = [vel_func(r) for r in possible_rs]\n",
    "    \n",
    "    # Again this was chosen with trial and error. It amounts for about 100 days.\n",
    "    # It is enough to check that for the possible rs's it does crush at some points\n",
    "    # and not very large that would be computationally and time expensive. It is \n",
    "    # enough to find the first stable orbit that is bound.\n",
    "    times = np.linspace(0,7*(T_moon/2) ,int(7*(T_moon / 200)))\n",
    "\n",
    "    for index, (i,j) in enumerate(zip(possible_rs, possible_vs)):\n",
    "        # Set initial values\n",
    "        initial = [i,0,0,j]\n",
    "        # Solve ODE\n",
    "        values4 = odeint(function2, initial, times)\n",
    "        xpos = values4[:,0]\n",
    "        ypos = values4[:,1]\n",
    "\n",
    "        zpos = []\n",
    "        # Caltulates r position for each xpos, ypos\n",
    "        for j in range(len(xpos)):\n",
    "            z = norm(xpos[j], ypos[j])\n",
    "            zpos.append(z)\n",
    "        \n",
    "        # If the minimum value of the r positions is smaller than the radius of the \n",
    "        # moon, it means that it has crushed at some point.\n",
    "        if np.amin(zpos) < radius:\n",
    "            print('crushed on the moon with initial r: {}'.format(i))\n",
    "            pass\n",
    "        else:\n",
    "            print('did not crush with initial r: {}'.format(i))\n",
    "            min_r = i\n",
    "\n",
    "            plt.plot(times, zpos)\n",
    "            plt.title('Position (m) of spacecraft away from \\\n",
    "the \\n centre of the moon against time (s)')\n",
    "            plt.show\n",
    "            break\n",
    "    # subtract the value of radius to find height above moon.\n",
    "    min_height = min_r - radius\n",
    "    return min_height\n",
    "          "
   ]
  },
  {
   "cell_type": "markdown",
   "metadata": {
    "deletable": false,
    "editable": false,
    "nbgrader": {
     "cell_type": "markdown",
     "checksum": "ac3e84b6dd5333dbe0a39a8e4c18c4d4",
     "grade": false,
     "grade_id": "section-testing-task6",
     "locked": true,
     "schema_version": 3,
     "solution": false,
     "task": false
    }
   },
   "source": [
    "## Testing task 6\n",
    "\n",
    "The cell below will run your function and print your answer. This will be tested against the correct answer (not given). Your answer should be within 1000 meters of the correct answer."
   ]
  },
  {
   "cell_type": "code",
   "execution_count": 65,
   "metadata": {
    "deletable": false,
    "editable": false,
    "nbgrader": {
     "cell_type": "code",
     "checksum": "2221b89d6ba60c62d24c7d941732b33f",
     "grade": true,
     "grade_id": "test-task6",
     "locked": true,
     "points": 1,
     "schema_version": 3,
     "solution": false,
     "task": false
    }
   },
   "outputs": [
    {
     "name": "stdout",
     "output_type": "stream",
     "text": [
      "crushed on the moon with initial r: 1890000.0\n",
      "crushed on the moon with initial r: 1891052.6315789474\n",
      "crushed on the moon with initial r: 1892105.2631578948\n",
      "did not crush with initial r: 1893157.894736842\n",
      "Minimum height of stable orbit: 155157.89473684202 m.\n",
      "Solution calculated in 19.263102293014526 seconds.\n"
     ]
    },
    {
     "data": {
      "image/png": "[encoded data removed]",
      "text/plain": [
       "<Figure size 720x432 with 1 Axes>"
      ]
     },
     "metadata": {
      "needs_background": "light"
     },
     "output_type": "display_data"
    }
   ],
   "source": [
    "t1 = time.time()\n",
    "min_height = task6()\n",
    "t2 = time.time()\n",
    "print (f\"Minimum height of stable orbit: {min_height} m.\")\n",
    "print (f\"Solution calculated in {t2-t1} seconds.\")\n"
   ]
  },
  {
   "cell_type": "code",
   "execution_count": 66,
   "metadata": {},
   "outputs": [],
   "source": [
    "# This plot demonstrates that the values of the position change \n",
    "# periodically. This suggests that it is a bound orbit. I understand that this\n",
    "# is not sufficient for the infinite case but since we have a numerical \n",
    "# solution it would be impossible to have a graph that has overall gradient decrease of 0.\n"
   ]
  },
  {
   "cell_type": "code",
   "execution_count": null,
   "metadata": {},
   "outputs": [],
   "source": []
  }
 ],
 "metadata": {
  "kernelspec": {
   "display_name": "Python 3",
   "language": "python",
   "name": "python3"
  },
  "language_info": {
   "codemirror_mode": {
    "name": "ipython",
    "version": 3
   },
   "file_extension": ".py",
   "mimetype": "text/x-python",
   "name": "python",
   "nbconvert_exporter": "python",
   "pygments_lexer": "ipython3",
   "version": "3.7.3"
  }
 },
 "nbformat": 4,
 "nbformat_minor": 2
}
